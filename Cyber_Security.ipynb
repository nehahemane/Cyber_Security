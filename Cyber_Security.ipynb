{
 "cells": [
  {
   "cell_type": "markdown",
   "metadata": {},
   "source": [
    "### Import the Dataset"
   ]
  },
  {
   "cell_type": "code",
   "execution_count": 3,
   "metadata": {
    "scrolled": true
   },
   "outputs": [],
   "source": [
    "import pandas as pd\n",
    "import numpy as np\n",
    "import seaborn as sns\n",
    "import matplotlib.pyplot as plt\n"
   ]
  },
  {
   "cell_type": "code",
   "execution_count": 4,
   "metadata": {},
   "outputs": [
    {
     "data": {
      "text/html": [
       "<div>\n",
       "<style scoped>\n",
       "    .dataframe tbody tr th:only-of-type {\n",
       "        vertical-align: middle;\n",
       "    }\n",
       "\n",
       "    .dataframe tbody tr th {\n",
       "        vertical-align: top;\n",
       "    }\n",
       "\n",
       "    .dataframe thead th {\n",
       "        text-align: right;\n",
       "    }\n",
       "</style>\n",
       "<table border=\"1\" class=\"dataframe\">\n",
       "  <thead>\n",
       "    <tr style=\"text-align: right;\">\n",
       "      <th></th>\n",
       "      <th>req__baseUrl</th>\n",
       "      <th>req__body__note__title</th>\n",
       "      <th>req__body__note__desc</th>\n",
       "      <th>req__fresh</th>\n",
       "      <th>req__headers__host</th>\n",
       "      <th>req__headers__user-agent</th>\n",
       "      <th>req__headers__content-type</th>\n",
       "      <th>req__headers__org_id</th>\n",
       "      <th>req__headers__user_session_id</th>\n",
       "      <th>req__headers__accept</th>\n",
       "      <th>...</th>\n",
       "      <th>req__hostname</th>\n",
       "      <th>req__ip</th>\n",
       "      <th>req__originalUrl</th>\n",
       "      <th>req__path</th>\n",
       "      <th>req__protocol</th>\n",
       "      <th>req__secure</th>\n",
       "      <th>req__stale</th>\n",
       "      <th>req__subdomains__-</th>\n",
       "      <th>req__xhr</th>\n",
       "      <th>isSafe</th>\n",
       "    </tr>\n",
       "  </thead>\n",
       "  <tbody>\n",
       "    <tr>\n",
       "      <th>0</th>\n",
       "      <td>/crm/note</td>\n",
       "      <td>Tina Johnson</td>\n",
       "      <td>Top recognize eat. Fact whom spend area thing ...</td>\n",
       "      <td>False</td>\n",
       "      <td>example.com</td>\n",
       "      <td>insomnia/2020.4.2</td>\n",
       "      <td>application/json</td>\n",
       "      <td>5f572820f65af8ac955b2e83</td>\n",
       "      <td>5fb27d3750b11901a35649fe</td>\n",
       "      <td>*/*</td>\n",
       "      <td>...</td>\n",
       "      <td>example.com</td>\n",
       "      <td>::ffff:117.99.96.244</td>\n",
       "      <td>/crm/note</td>\n",
       "      <td>/note</td>\n",
       "      <td>http</td>\n",
       "      <td>False</td>\n",
       "      <td>True</td>\n",
       "      <td>crm</td>\n",
       "      <td>False</td>\n",
       "      <td>True</td>\n",
       "    </tr>\n",
       "    <tr>\n",
       "      <th>1</th>\n",
       "      <td>/crm/note</td>\n",
       "      <td>Clayton Cooper</td>\n",
       "      <td>As possible American many prepare four strong....</td>\n",
       "      <td>False</td>\n",
       "      <td>example.com</td>\n",
       "      <td>insomnia/2020.4.2</td>\n",
       "      <td>application/json</td>\n",
       "      <td>5f572820f65af8ac955b2e83</td>\n",
       "      <td>5fb27d3750b11901a35649fe</td>\n",
       "      <td>*/*</td>\n",
       "      <td>...</td>\n",
       "      <td>example.com</td>\n",
       "      <td>::ffff:117.99.96.244</td>\n",
       "      <td>/crm/note</td>\n",
       "      <td>/note</td>\n",
       "      <td>http</td>\n",
       "      <td>False</td>\n",
       "      <td>True</td>\n",
       "      <td>crm</td>\n",
       "      <td>False</td>\n",
       "      <td>True</td>\n",
       "    </tr>\n",
       "    <tr>\n",
       "      <th>2</th>\n",
       "      <td>/crm/note</td>\n",
       "      <td>Curtis Wolfe</td>\n",
       "      <td>Tuesday Notes or 2 like 2 XSP Class</td>\n",
       "      <td>False</td>\n",
       "      <td>example.com</td>\n",
       "      <td>insomnia/2020.4.2</td>\n",
       "      <td>application/json</td>\n",
       "      <td>5f572820f65af8ac955b2e83</td>\n",
       "      <td>5fb27d3750b11901a35649fe</td>\n",
       "      <td>*/*</td>\n",
       "      <td>...</td>\n",
       "      <td>example.com</td>\n",
       "      <td>::ffff:117.99.96.244</td>\n",
       "      <td>/crm/note</td>\n",
       "      <td>/note</td>\n",
       "      <td>http</td>\n",
       "      <td>False</td>\n",
       "      <td>True</td>\n",
       "      <td>crm</td>\n",
       "      <td>False</td>\n",
       "      <td>False</td>\n",
       "    </tr>\n",
       "    <tr>\n",
       "      <th>3</th>\n",
       "      <td>/crm/note</td>\n",
       "      <td>Laura Fisher</td>\n",
       "      <td>State third represent energy campaign not forg...</td>\n",
       "      <td>False</td>\n",
       "      <td>example.com</td>\n",
       "      <td>insomnia/2020.4.2</td>\n",
       "      <td>application/json</td>\n",
       "      <td>5f572820f65af8ac955b2e83</td>\n",
       "      <td>5fb27d3750b11901a35649fe</td>\n",
       "      <td>*/*</td>\n",
       "      <td>...</td>\n",
       "      <td>example.com</td>\n",
       "      <td>::ffff:117.99.96.244</td>\n",
       "      <td>/crm/note</td>\n",
       "      <td>/note</td>\n",
       "      <td>http</td>\n",
       "      <td>False</td>\n",
       "      <td>True</td>\n",
       "      <td>crm</td>\n",
       "      <td>False</td>\n",
       "      <td>True</td>\n",
       "    </tr>\n",
       "    <tr>\n",
       "      <th>4</th>\n",
       "      <td>/crm/note</td>\n",
       "      <td>Tyler Santos</td>\n",
       "      <td>Us enjoy since. Time identify image position o...</td>\n",
       "      <td>False</td>\n",
       "      <td>example.com</td>\n",
       "      <td>insomnia/2020.4.2</td>\n",
       "      <td>application/json</td>\n",
       "      <td>5f572820f65af8ac955b2e83</td>\n",
       "      <td>5fb27d3750b11901a35649fe</td>\n",
       "      <td>*/*</td>\n",
       "      <td>...</td>\n",
       "      <td>example.com</td>\n",
       "      <td>::ffff:117.99.96.244</td>\n",
       "      <td>/crm/note</td>\n",
       "      <td>/note</td>\n",
       "      <td>http</td>\n",
       "      <td>False</td>\n",
       "      <td>True</td>\n",
       "      <td>crm</td>\n",
       "      <td>False</td>\n",
       "      <td>False</td>\n",
       "    </tr>\n",
       "  </tbody>\n",
       "</table>\n",
       "<p>5 rows × 23 columns</p>\n",
       "</div>"
      ],
      "text/plain": [
       "  req__baseUrl req__body__note__title  \\\n",
       "0    /crm/note           Tina Johnson   \n",
       "1    /crm/note         Clayton Cooper   \n",
       "2    /crm/note           Curtis Wolfe   \n",
       "3    /crm/note           Laura Fisher   \n",
       "4    /crm/note           Tyler Santos   \n",
       "\n",
       "                               req__body__note__desc  req__fresh  \\\n",
       "0  Top recognize eat. Fact whom spend area thing ...       False   \n",
       "1  As possible American many prepare four strong....       False   \n",
       "2                Tuesday Notes or 2 like 2 XSP Class       False   \n",
       "3  State third represent energy campaign not forg...       False   \n",
       "4  Us enjoy since. Time identify image position o...       False   \n",
       "\n",
       "  req__headers__host req__headers__user-agent req__headers__content-type  \\\n",
       "0        example.com        insomnia/2020.4.2           application/json   \n",
       "1        example.com        insomnia/2020.4.2           application/json   \n",
       "2        example.com        insomnia/2020.4.2           application/json   \n",
       "3        example.com        insomnia/2020.4.2           application/json   \n",
       "4        example.com        insomnia/2020.4.2           application/json   \n",
       "\n",
       "       req__headers__org_id req__headers__user_session_id  \\\n",
       "0  5f572820f65af8ac955b2e83      5fb27d3750b11901a35649fe   \n",
       "1  5f572820f65af8ac955b2e83      5fb27d3750b11901a35649fe   \n",
       "2  5f572820f65af8ac955b2e83      5fb27d3750b11901a35649fe   \n",
       "3  5f572820f65af8ac955b2e83      5fb27d3750b11901a35649fe   \n",
       "4  5f572820f65af8ac955b2e83      5fb27d3750b11901a35649fe   \n",
       "\n",
       "  req__headers__accept  ...  req__hostname               req__ip  \\\n",
       "0                  */*  ...    example.com  ::ffff:117.99.96.244   \n",
       "1                  */*  ...    example.com  ::ffff:117.99.96.244   \n",
       "2                  */*  ...    example.com  ::ffff:117.99.96.244   \n",
       "3                  */*  ...    example.com  ::ffff:117.99.96.244   \n",
       "4                  */*  ...    example.com  ::ffff:117.99.96.244   \n",
       "\n",
       "  req__originalUrl req__path req__protocol req__secure req__stale  \\\n",
       "0        /crm/note     /note          http       False       True   \n",
       "1        /crm/note     /note          http       False       True   \n",
       "2        /crm/note     /note          http       False       True   \n",
       "3        /crm/note     /note          http       False       True   \n",
       "4        /crm/note     /note          http       False       True   \n",
       "\n",
       "  req__subdomains__-  req__xhr  isSafe  \n",
       "0                crm     False    True  \n",
       "1                crm     False    True  \n",
       "2                crm     False   False  \n",
       "3                crm     False    True  \n",
       "4                crm     False   False  \n",
       "\n",
       "[5 rows x 23 columns]"
      ]
     },
     "execution_count": 4,
     "metadata": {},
     "output_type": "execute_result"
    }
   ],
   "source": [
    "model = pd.read_csv('C:\\\\Users\\\\Neha\\\\Desktop\\\\New folder\\\\Cyber_Security\\\\app_data.csv')\n",
    "model.head()"
   ]
  },
  {
   "cell_type": "markdown",
   "metadata": {},
   "source": [
    "### Check the shape of the dataset"
   ]
  },
  {
   "cell_type": "code",
   "execution_count": 4,
   "metadata": {},
   "outputs": [
    {
     "data": {
      "text/plain": [
       "(1000, 23)"
      ]
     },
     "execution_count": 4,
     "metadata": {},
     "output_type": "execute_result"
    }
   ],
   "source": [
    "model.shape"
   ]
  },
  {
   "cell_type": "markdown",
   "metadata": {},
   "source": [
    "### Check the info of dataset"
   ]
  },
  {
   "cell_type": "code",
   "execution_count": 5,
   "metadata": {},
   "outputs": [
    {
     "name": "stdout",
     "output_type": "stream",
     "text": [
      "<class 'pandas.core.frame.DataFrame'>\n",
      "RangeIndex: 1000 entries, 0 to 999\n",
      "Data columns (total 23 columns):\n",
      " #   Column                         Non-Null Count  Dtype \n",
      "---  ------                         --------------  ----- \n",
      " 0   req__baseUrl                   1000 non-null   object\n",
      " 1   req__body__note__title         1000 non-null   object\n",
      " 2   req__body__note__desc          1000 non-null   object\n",
      " 3   req__fresh                     1000 non-null   bool  \n",
      " 4   req__headers__host             1000 non-null   object\n",
      " 5   req__headers__user-agent       1000 non-null   object\n",
      " 6   req__headers__content-type     1000 non-null   object\n",
      " 7   req__headers__org_id           1000 non-null   object\n",
      " 8   req__headers__user_session_id  1000 non-null   object\n",
      " 9   req__headers__accept           1000 non-null   object\n",
      " 10  req__headers__content-length   1000 non-null   int64 \n",
      " 11  req__headers__user__name       1000 non-null   object\n",
      " 12  req__headers__user__role       1000 non-null   object\n",
      " 13  req__hostname                  1000 non-null   object\n",
      " 14  req__ip                        1000 non-null   object\n",
      " 15  req__originalUrl               1000 non-null   object\n",
      " 16  req__path                      1000 non-null   object\n",
      " 17  req__protocol                  1000 non-null   object\n",
      " 18  req__secure                    1000 non-null   bool  \n",
      " 19  req__stale                     1000 non-null   bool  \n",
      " 20  req__subdomains__-             1000 non-null   object\n",
      " 21  req__xhr                       1000 non-null   bool  \n",
      " 22  isSafe                         1000 non-null   bool  \n",
      "dtypes: bool(5), int64(1), object(17)\n",
      "memory usage: 145.6+ KB\n"
     ]
    }
   ],
   "source": [
    "model.info()"
   ]
  },
  {
   "cell_type": "markdown",
   "metadata": {},
   "source": [
    "### Check for missing values"
   ]
  },
  {
   "cell_type": "code",
   "execution_count": 6,
   "metadata": {
    "scrolled": true
   },
   "outputs": [
    {
     "data": {
      "text/plain": [
       "req__baseUrl                     0\n",
       "req__body__note__title           0\n",
       "req__body__note__desc            0\n",
       "req__fresh                       0\n",
       "req__headers__host               0\n",
       "req__headers__user-agent         0\n",
       "req__headers__content-type       0\n",
       "req__headers__org_id             0\n",
       "req__headers__user_session_id    0\n",
       "req__headers__accept             0\n",
       "req__headers__content-length     0\n",
       "req__headers__user__name         0\n",
       "req__headers__user__role         0\n",
       "req__hostname                    0\n",
       "req__ip                          0\n",
       "req__originalUrl                 0\n",
       "req__path                        0\n",
       "req__protocol                    0\n",
       "req__secure                      0\n",
       "req__stale                       0\n",
       "req__subdomains__-               0\n",
       "req__xhr                         0\n",
       "isSafe                           0\n",
       "dtype: int64"
      ]
     },
     "execution_count": 6,
     "metadata": {},
     "output_type": "execute_result"
    }
   ],
   "source": [
    "model.isnull().sum()"
   ]
  },
  {
   "cell_type": "markdown",
   "metadata": {},
   "source": [
    "- There is no missing values in the dataset."
   ]
  },
  {
   "cell_type": "markdown",
   "metadata": {},
   "source": [
    "### Checking correlation inside the dataset"
   ]
  },
  {
   "cell_type": "code",
   "execution_count": 7,
   "metadata": {
    "scrolled": false
   },
   "outputs": [
    {
     "data": {
      "text/html": [
       "<div>\n",
       "<style scoped>\n",
       "    .dataframe tbody tr th:only-of-type {\n",
       "        vertical-align: middle;\n",
       "    }\n",
       "\n",
       "    .dataframe tbody tr th {\n",
       "        vertical-align: top;\n",
       "    }\n",
       "\n",
       "    .dataframe thead th {\n",
       "        text-align: right;\n",
       "    }\n",
       "</style>\n",
       "<table border=\"1\" class=\"dataframe\">\n",
       "  <thead>\n",
       "    <tr style=\"text-align: right;\">\n",
       "      <th></th>\n",
       "      <th>req__fresh</th>\n",
       "      <th>req__headers__content-length</th>\n",
       "      <th>req__secure</th>\n",
       "      <th>req__stale</th>\n",
       "      <th>req__xhr</th>\n",
       "      <th>isSafe</th>\n",
       "    </tr>\n",
       "  </thead>\n",
       "  <tbody>\n",
       "    <tr>\n",
       "      <th>req__fresh</th>\n",
       "      <td>NaN</td>\n",
       "      <td>NaN</td>\n",
       "      <td>NaN</td>\n",
       "      <td>NaN</td>\n",
       "      <td>NaN</td>\n",
       "      <td>NaN</td>\n",
       "    </tr>\n",
       "    <tr>\n",
       "      <th>req__headers__content-length</th>\n",
       "      <td>NaN</td>\n",
       "      <td>NaN</td>\n",
       "      <td>NaN</td>\n",
       "      <td>NaN</td>\n",
       "      <td>NaN</td>\n",
       "      <td>NaN</td>\n",
       "    </tr>\n",
       "    <tr>\n",
       "      <th>req__secure</th>\n",
       "      <td>NaN</td>\n",
       "      <td>NaN</td>\n",
       "      <td>NaN</td>\n",
       "      <td>NaN</td>\n",
       "      <td>NaN</td>\n",
       "      <td>NaN</td>\n",
       "    </tr>\n",
       "    <tr>\n",
       "      <th>req__stale</th>\n",
       "      <td>NaN</td>\n",
       "      <td>NaN</td>\n",
       "      <td>NaN</td>\n",
       "      <td>NaN</td>\n",
       "      <td>NaN</td>\n",
       "      <td>NaN</td>\n",
       "    </tr>\n",
       "    <tr>\n",
       "      <th>req__xhr</th>\n",
       "      <td>NaN</td>\n",
       "      <td>NaN</td>\n",
       "      <td>NaN</td>\n",
       "      <td>NaN</td>\n",
       "      <td>NaN</td>\n",
       "      <td>NaN</td>\n",
       "    </tr>\n",
       "    <tr>\n",
       "      <th>isSafe</th>\n",
       "      <td>NaN</td>\n",
       "      <td>NaN</td>\n",
       "      <td>NaN</td>\n",
       "      <td>NaN</td>\n",
       "      <td>NaN</td>\n",
       "      <td>1.0</td>\n",
       "    </tr>\n",
       "  </tbody>\n",
       "</table>\n",
       "</div>"
      ],
      "text/plain": [
       "                              req__fresh  req__headers__content-length  \\\n",
       "req__fresh                           NaN                           NaN   \n",
       "req__headers__content-length         NaN                           NaN   \n",
       "req__secure                          NaN                           NaN   \n",
       "req__stale                           NaN                           NaN   \n",
       "req__xhr                             NaN                           NaN   \n",
       "isSafe                               NaN                           NaN   \n",
       "\n",
       "                              req__secure  req__stale  req__xhr  isSafe  \n",
       "req__fresh                            NaN         NaN       NaN     NaN  \n",
       "req__headers__content-length          NaN         NaN       NaN     NaN  \n",
       "req__secure                           NaN         NaN       NaN     NaN  \n",
       "req__stale                            NaN         NaN       NaN     NaN  \n",
       "req__xhr                              NaN         NaN       NaN     NaN  \n",
       "isSafe                                NaN         NaN       NaN     1.0  "
      ]
     },
     "execution_count": 7,
     "metadata": {},
     "output_type": "execute_result"
    }
   ],
   "source": [
    "model.corr()"
   ]
  },
  {
   "cell_type": "code",
   "execution_count": 8,
   "metadata": {},
   "outputs": [
    {
     "data": {
      "image/png": "[encoded data removed]",
      "text/plain": [
       "<Figure size 576x504 with 2 Axes>"
      ]
     },
     "metadata": {
      "needs_background": "light"
     },
     "output_type": "display_data"
    }
   ],
   "source": [
    "plt.figure(figsize = (8, 7))\n",
    "sns.heatmap(model.corr(), annot = True, cmap=\"YlGnBu\")\n",
    "plt.show()"
   ]
  },
  {
   "cell_type": "markdown",
   "metadata": {},
   "source": [
    "- As we can notice there is no corelation between many feature variable and target variable\n",
    "- More the % of variation more the information column have, but we observed that many column have consatant values so these column do not have much information to predict the target variable. We have to drop column which are inlistd as follow.\n",
    "\n",
    "['req__baseUrl','req__body__note__title','req__fresh','req__headers__host','req__headers__user-agent','req__headers__user-agent', 'req__headers__content-type', 'req__headers__org_id','req__headers__user_session_id ','req__headers__accept', 'req__headers__content-length', 'req__headers__user__name', 'req__headers__user__role ','req__hostname', 'req__ip', 'req__originalUrl ','req__path ','req__protocol','req__secure ','req__stale','req__subdomains__- ', 'req__xhr']\n",
    "   \n",
    " "
   ]
  },
  {
   "cell_type": "code",
   "execution_count": 9,
   "metadata": {},
   "outputs": [],
   "source": [
    "# Dropping not necessary features.\n",
    "\n",
    "model = model.drop(['req__baseUrl','req__body__note__title','req__fresh','req__headers__host','req__headers__user-agent','req__headers__user-agent', 'req__headers__content-type', 'req__headers__org_id','req__headers__user_session_id','req__headers__accept', 'req__headers__content-length', 'req__headers__user__name', 'req__headers__user__role','req__hostname', 'req__ip', 'req__originalUrl','req__path','req__protocol','req__secure','req__stale','req__subdomains__-', 'req__xhr'], axis=1)"
   ]
  },
  {
   "cell_type": "code",
   "execution_count": 10,
   "metadata": {},
   "outputs": [
    {
     "name": "stdout",
     "output_type": "stream",
     "text": [
      "                               req__body__note__desc  isSafe\n",
      "0  Top recognize eat. Fact whom spend area thing ...    True\n",
      "1  As possible American many prepare four strong....    True\n",
      "2                Tuesday Notes or 2 like 2 XSP Class   False\n",
      "3  State third represent energy campaign not forg...    True\n",
      "4  Us enjoy since. Time identify image position o...   False\n"
     ]
    }
   ],
   "source": [
    "print(model.head())"
   ]
  },
  {
   "cell_type": "code",
   "execution_count": 11,
   "metadata": {},
   "outputs": [
    {
     "data": {
      "text/plain": [
       "True     572\n",
       "False    428\n",
       "Name: isSafe, dtype: int64"
      ]
     },
     "execution_count": 11,
     "metadata": {},
     "output_type": "execute_result"
    }
   ],
   "source": [
    "model[\"isSafe\"].value_counts()"
   ]
  },
  {
   "cell_type": "markdown",
   "metadata": {},
   "source": [
    "- This shows that dataset is balanced."
   ]
  },
  {
   "cell_type": "markdown",
   "metadata": {},
   "source": [
    "### Extract the independent variables to create a dataframe X"
   ]
  },
  {
   "cell_type": "code",
   "execution_count": 12,
   "metadata": {},
   "outputs": [
    {
     "data": {
      "text/plain": [
       "0    Top recognize eat. Fact whom spend area thing ...\n",
       "1    As possible American many prepare four strong....\n",
       "2                  Tuesday Notes or 2 like 2 XSP Class\n",
       "3    State third represent energy campaign not forg...\n",
       "4    Us enjoy since. Time identify image position o...\n",
       "Name: req__body__note__desc, dtype: object"
      ]
     },
     "execution_count": 12,
     "metadata": {},
     "output_type": "execute_result"
    }
   ],
   "source": [
    "X = model[\"req__body__note__desc\"]\n",
    "X.head()"
   ]
  },
  {
   "cell_type": "markdown",
   "metadata": {},
   "source": [
    "### Extract the dependent variables to create a dataframe y"
   ]
  },
  {
   "cell_type": "code",
   "execution_count": 13,
   "metadata": {},
   "outputs": [
    {
     "data": {
      "text/plain": [
       "0     True\n",
       "1     True\n",
       "2    False\n",
       "3     True\n",
       "4    False\n",
       "Name: isSafe, dtype: bool"
      ]
     },
     "execution_count": 13,
     "metadata": {},
     "output_type": "execute_result"
    }
   ],
   "source": [
    "y = model[\"isSafe\"]\n",
    "y.head()"
   ]
  },
  {
   "cell_type": "markdown",
   "metadata": {},
   "source": [
    "### Split X and y into train and test dataset with test_size = 0.20, random_state=0"
   ]
  },
  {
   "cell_type": "code",
   "execution_count": 14,
   "metadata": {},
   "outputs": [],
   "source": [
    "from sklearn.model_selection import train_test_split\n",
    "\n",
    "X_train,X_test,y_train,y_test = train_test_split(X,y,test_size=0.20,random_state=0)"
   ]
  },
  {
   "cell_type": "markdown",
   "metadata": {},
   "source": [
    "### Check the shape of X, y of train and test dataset"
   ]
  },
  {
   "cell_type": "code",
   "execution_count": 15,
   "metadata": {},
   "outputs": [
    {
     "name": "stdout",
     "output_type": "stream",
     "text": [
      "(800,)\n",
      "(800,)\n",
      "(200,)\n",
      "(200,)\n"
     ]
    }
   ],
   "source": [
    "print(X_train.shape)\n",
    "print(y_train.shape)\n",
    "print(X_test.shape)\n",
    "print(y_test.shape)"
   ]
  },
  {
   "cell_type": "markdown",
   "metadata": {},
   "source": [
    "### Data Preprocessing\n",
    "\n",
    "- Our algorithm always expect the input to be integers/floats, so we need to have some data preprocessing layer in the middle to convert the words to integers/floats.\n",
    "- There are couples of ways of doing this are as fallows,\n",
    "     - CountVectorizer\n",
    "     - TfidfVectorizer\n",
    "     - Word Embedding"
   ]
  },
  {
   "cell_type": "code",
   "execution_count": 16,
   "metadata": {},
   "outputs": [],
   "source": [
    "from sklearn.feature_extraction.text import CountVectorizer\n",
    "cv = CountVectorizer()  \n",
    "trainCV = cv.fit_transform(X_train)\n",
    "testCV = cv.transform(X_test)"
   ]
  },
  {
   "cell_type": "markdown",
   "metadata": {},
   "source": [
    "### Applying various Machine Learning models\n",
    "\n",
    "### Naïve Bayes"
   ]
  },
  {
   "cell_type": "code",
   "execution_count": 17,
   "metadata": {},
   "outputs": [],
   "source": [
    "from sklearn.naive_bayes import MultinomialNB\n",
    "naive_bayes = MultinomialNB()\n",
    "naive_bayes.fit(trainCV,y_train)\n",
    "pred_NB = naive_bayes.predict(testCV)"
   ]
  },
  {
   "cell_type": "code",
   "execution_count": 18,
   "metadata": {},
   "outputs": [
    {
     "name": "stdout",
     "output_type": "stream",
     "text": [
      "Accuracy score for NB is: 0.84\n"
     ]
    }
   ],
   "source": [
    "from sklearn.metrics import accuracy_score\n",
    "Accuracy_Score_NB = accuracy_score(y_test, pred_NB)\n",
    "print('Accuracy score for NB is:',Accuracy_Score_NB)"
   ]
  },
  {
   "cell_type": "code",
   "execution_count": 19,
   "metadata": {},
   "outputs": [
    {
     "name": "stdout",
     "output_type": "stream",
     "text": [
      "Confusion matrix for NB is\n",
      "\n",
      "                  Predicted Not Safe  Predicted Safe\n",
      "Actual Not Safe                  49              32\n",
      "Actual Safe                       0             119\n"
     ]
    }
   ],
   "source": [
    "from sklearn.metrics import confusion_matrix\n",
    "matrix_knn_model1 = pd.DataFrame()\n",
    "matrix_NB = pd.DataFrame(confusion_matrix(y_test, pred_NB))\n",
    "matrix_NB.index = ['Actual Not Safe','Actual Safe']\n",
    "matrix_NB.columns = ['Predicted Not Safe','Predicted Safe']\n",
    "print('Confusion matrix for NB is\\n\\n',matrix_NB)\n",
    "    \n"
   ]
  },
  {
   "cell_type": "code",
   "execution_count": 20,
   "metadata": {
    "scrolled": true
   },
   "outputs": [
    {
     "name": "stdout",
     "output_type": "stream",
     "text": [
      "Classification report for NB:\n",
      "\n",
      "               precision    recall  f1-score   support\n",
      "\n",
      "       False       1.00      0.60      0.75        81\n",
      "        True       0.79      1.00      0.88       119\n",
      "\n",
      "    accuracy                           0.84       200\n",
      "   macro avg       0.89      0.80      0.82       200\n",
      "weighted avg       0.87      0.84      0.83       200\n",
      "\n"
     ]
    }
   ],
   "source": [
    "from sklearn.metrics import classification_report\n",
    "print('Classification report for NB:\\n\\n',classification_report(y_test, pred_NB))"
   ]
  },
  {
   "cell_type": "markdown",
   "metadata": {},
   "source": [
    "### K-Nearest Neighbors (KNN)"
   ]
  },
  {
   "cell_type": "code",
   "execution_count": 21,
   "metadata": {},
   "outputs": [
    {
     "name": "stdout",
     "output_type": "stream",
     "text": [
      "Accuracy score for KNN is: 0.405\n"
     ]
    }
   ],
   "source": [
    "from sklearn.neighbors import KNeighborsClassifier\n",
    "classifier_knn = KNeighborsClassifier()\n",
    "classifier_knn.fit(trainCV, y_train)\n",
    "pred_knn = classifier_knn.predict(testCV)\n",
    "\n",
    "Accuracy_Score_knn = accuracy_score(y_test, pred_knn)\n",
    "print('Accuracy score for KNN is:',Accuracy_Score_knn)"
   ]
  },
  {
   "cell_type": "code",
   "execution_count": 22,
   "metadata": {},
   "outputs": [
    {
     "name": "stdout",
     "output_type": "stream",
     "text": [
      "Confusion matrix for KNN is \n",
      "\n",
      "                  Predicted Not Safe  Predicted Safe\n",
      "Actual Not Safe                  81               0\n",
      "Actual Safe                     119               0\n"
     ]
    }
   ],
   "source": [
    "matrix_knn = pd.DataFrame()\n",
    "matrix_knn = pd.DataFrame(confusion_matrix(y_test, pred_knn))\n",
    "matrix_knn.index = ['Actual Not Safe','Actual Safe']\n",
    "matrix_knn.columns = ['Predicted Not Safe','Predicted Safe']\n",
    "print('Confusion matrix for KNN is \\n\\n',matrix_knn)\n",
    "    "
   ]
  },
  {
   "cell_type": "code",
   "execution_count": 23,
   "metadata": {},
   "outputs": [
    {
     "name": "stdout",
     "output_type": "stream",
     "text": [
      "Classification report for KNN is:\n",
      "\n",
      "               precision    recall  f1-score   support\n",
      "\n",
      "       False       0.41      1.00      0.58        81\n",
      "        True       0.00      0.00      0.00       119\n",
      "\n",
      "    accuracy                           0.41       200\n",
      "   macro avg       0.20      0.50      0.29       200\n",
      "weighted avg       0.16      0.41      0.23       200\n",
      "\n"
     ]
    },
    {
     "name": "stderr",
     "output_type": "stream",
     "text": [
      "C:\\Users\\Neha\\anaconda3\\lib\\site-packages\\sklearn\\metrics\\_classification.py:1221: UndefinedMetricWarning: Precision and F-score are ill-defined and being set to 0.0 in labels with no predicted samples. Use `zero_division` parameter to control this behavior.\n",
      "  _warn_prf(average, modifier, msg_start, len(result))\n"
     ]
    }
   ],
   "source": [
    "print('Classification report for KNN is:\\n\\n',classification_report(y_test, pred_knn))"
   ]
  },
  {
   "cell_type": "markdown",
   "metadata": {},
   "source": [
    "### Support Vector Machine (SVM)\n",
    "\n",
    "### SVM_Linear"
   ]
  },
  {
   "cell_type": "code",
   "execution_count": 24,
   "metadata": {},
   "outputs": [],
   "source": [
    "from sklearn.svm import SVC\n",
    "classifier_svm_linear = SVC(kernel = 'linear')\n",
    "classifier_svm_linear.fit(trainCV, y_train)\n",
    "pred_svm_linear = classifier_svm_linear.predict(testCV)"
   ]
  },
  {
   "cell_type": "code",
   "execution_count": 25,
   "metadata": {
    "scrolled": true
   },
   "outputs": [
    {
     "name": "stdout",
     "output_type": "stream",
     "text": [
      "Accuracy score for SVM_Linear is: 0.76\n"
     ]
    }
   ],
   "source": [
    "Accuracy_Score_SVM_Linear = accuracy_score(y_test, pred_svm_linear)\n",
    "print('Accuracy score for SVM_Linear is:',Accuracy_Score_SVM_Linear)"
   ]
  },
  {
   "cell_type": "code",
   "execution_count": 26,
   "metadata": {},
   "outputs": [
    {
     "name": "stdout",
     "output_type": "stream",
     "text": [
      "Confusion matrix for SVM_Linear is \n",
      "\n",
      "                  Predicted Not Safe  Predicted Safe\n",
      "Actual Not Safe                  53              28\n",
      "Actual Safe                      20              99\n"
     ]
    }
   ],
   "source": [
    "matrix_SVM_Linear = pd.DataFrame()\n",
    "matrix_SVM_Linear = pd.DataFrame(confusion_matrix(y_test, pred_svm_linear))\n",
    "matrix_SVM_Linear.index = ['Actual Not Safe','Actual Safe']\n",
    "matrix_SVM_Linear.columns = ['Predicted Not Safe','Predicted Safe']\n",
    "print('Confusion matrix for SVM_Linear is \\n\\n',matrix_SVM_Linear)\n",
    "    "
   ]
  },
  {
   "cell_type": "code",
   "execution_count": 27,
   "metadata": {},
   "outputs": [
    {
     "name": "stdout",
     "output_type": "stream",
     "text": [
      "Classification report for SVM_Linear is:\n",
      "\n",
      "               precision    recall  f1-score   support\n",
      "\n",
      "       False       0.73      0.65      0.69        81\n",
      "        True       0.78      0.83      0.80       119\n",
      "\n",
      "    accuracy                           0.76       200\n",
      "   macro avg       0.75      0.74      0.75       200\n",
      "weighted avg       0.76      0.76      0.76       200\n",
      "\n"
     ]
    }
   ],
   "source": [
    "print('Classification report for SVM_Linear is:\\n\\n',classification_report(y_test, pred_svm_linear))"
   ]
  },
  {
   "cell_type": "markdown",
   "metadata": {},
   "source": [
    "### SVM_Gaussion"
   ]
  },
  {
   "cell_type": "code",
   "execution_count": 28,
   "metadata": {},
   "outputs": [],
   "source": [
    "classifier_svm_rbf = SVC(kernel = 'rbf')\n",
    "classifier_svm_rbf.fit(trainCV, y_train)\n",
    "pred_svm_rbf = classifier_svm_rbf.predict(testCV)"
   ]
  },
  {
   "cell_type": "code",
   "execution_count": 29,
   "metadata": {},
   "outputs": [
    {
     "name": "stdout",
     "output_type": "stream",
     "text": [
      "Accuracy score for SVM_Gussion is: 0.84\n"
     ]
    }
   ],
   "source": [
    "Accuracy_Score_SVM_Gaussion = accuracy_score(y_test, pred_svm_rbf)\n",
    "print('Accuracy score for SVM_Gussion is:',Accuracy_Score_SVM_Gaussion)"
   ]
  },
  {
   "cell_type": "code",
   "execution_count": 30,
   "metadata": {},
   "outputs": [
    {
     "name": "stdout",
     "output_type": "stream",
     "text": [
      "Confusion matrix for SVM_Gaussion is \n",
      "\n",
      "                  Predicted Not Safe  Predicted Safe\n",
      "Actual Not Safe                  49              32\n",
      "Actual Safe                       0             119\n"
     ]
    }
   ],
   "source": [
    "matrix_SVM_Gaussion = pd.DataFrame()\n",
    "matrix_SVM_Gaussion = pd.DataFrame(confusion_matrix(y_test, pred_svm_rbf))\n",
    "matrix_SVM_Gaussion.index = ['Actual Not Safe','Actual Safe']\n",
    "matrix_SVM_Gaussion.columns = ['Predicted Not Safe','Predicted Safe']\n",
    "print('Confusion matrix for SVM_Gaussion is \\n\\n',matrix_SVM_Gaussion)\n",
    "    "
   ]
  },
  {
   "cell_type": "code",
   "execution_count": 31,
   "metadata": {},
   "outputs": [
    {
     "name": "stdout",
     "output_type": "stream",
     "text": [
      "Classification report for SVM_Gaussion is:\n",
      "\n",
      "               precision    recall  f1-score   support\n",
      "\n",
      "       False       1.00      0.60      0.75        81\n",
      "        True       0.79      1.00      0.88       119\n",
      "\n",
      "    accuracy                           0.84       200\n",
      "   macro avg       0.89      0.80      0.82       200\n",
      "weighted avg       0.87      0.84      0.83       200\n",
      "\n"
     ]
    }
   ],
   "source": [
    "print('Classification report for SVM_Gaussion is:\\n\\n',classification_report(y_test, pred_svm_rbf))"
   ]
  },
  {
   "cell_type": "markdown",
   "metadata": {},
   "source": [
    "### SVM_Polynomial"
   ]
  },
  {
   "cell_type": "code",
   "execution_count": 32,
   "metadata": {},
   "outputs": [],
   "source": [
    "classifier_svm_poly = SVC(kernel = 'poly')\n",
    "classifier_svm_poly.fit(trainCV, y_train)\n",
    "pred_svm_poly = classifier_svm_poly.predict(testCV)"
   ]
  },
  {
   "cell_type": "code",
   "execution_count": 33,
   "metadata": {
    "scrolled": true
   },
   "outputs": [
    {
     "name": "stdout",
     "output_type": "stream",
     "text": [
      "Accuracy score for SVM_Polynomial is: 0.79\n"
     ]
    }
   ],
   "source": [
    "Accuracy_Score_SVM_Polynomial = accuracy_score(y_test, pred_svm_poly)\n",
    "print('Accuracy score for SVM_Polynomial is:',Accuracy_Score_SVM_Polynomial)"
   ]
  },
  {
   "cell_type": "code",
   "execution_count": 34,
   "metadata": {},
   "outputs": [
    {
     "name": "stdout",
     "output_type": "stream",
     "text": [
      "Confusion matrix for SVM_Polynomial is \n",
      "\n",
      "                  Predicted Not Safe  Predicted Safe\n",
      "Actual Not Safe                  39              42\n",
      "Actual Safe                       0             119\n"
     ]
    }
   ],
   "source": [
    "matrix_SVM_Polynomial = pd.DataFrame()\n",
    "matrix_SVM_Polynomial = pd.DataFrame(confusion_matrix(y_test, pred_svm_poly))\n",
    "matrix_SVM_Polynomial.index = ['Actual Not Safe','Actual Safe']\n",
    "matrix_SVM_Polynomial.columns = ['Predicted Not Safe','Predicted Safe']\n",
    "print('Confusion matrix for SVM_Polynomial is \\n\\n',matrix_SVM_Polynomial)\n",
    "    "
   ]
  },
  {
   "cell_type": "code",
   "execution_count": 35,
   "metadata": {},
   "outputs": [
    {
     "name": "stdout",
     "output_type": "stream",
     "text": [
      "Classification report for SVM_Polynomial is:\n",
      "\n",
      "               precision    recall  f1-score   support\n",
      "\n",
      "       False       1.00      0.48      0.65        81\n",
      "        True       0.74      1.00      0.85       119\n",
      "\n",
      "    accuracy                           0.79       200\n",
      "   macro avg       0.87      0.74      0.75       200\n",
      "weighted avg       0.84      0.79      0.77       200\n",
      "\n"
     ]
    }
   ],
   "source": [
    "print('Classification report for SVM_Polynomial is:\\n\\n',classification_report(y_test, pred_svm_poly))"
   ]
  },
  {
   "cell_type": "markdown",
   "metadata": {},
   "source": [
    "### SVM_Sigmoid"
   ]
  },
  {
   "cell_type": "code",
   "execution_count": 51,
   "metadata": {},
   "outputs": [],
   "source": [
    "classifier_svm_sigmoid = SVC(kernel = 'sigmoid')\n",
    "classifier_svm_sigmoid.fit(trainCV, y_train)\n",
    "pred_svm_sigmoid = classifier_svm_sigmoid.predict(testCV)"
   ]
  },
  {
   "cell_type": "code",
   "execution_count": 52,
   "metadata": {},
   "outputs": [
    {
     "name": "stdout",
     "output_type": "stream",
     "text": [
      "Accuracy score for SVM_Sigmoid is: 0.835\n"
     ]
    }
   ],
   "source": [
    "Accuracy_Score_SVM_Sigmoid = accuracy_score(y_test, pred_svm_sigmoid)\n",
    "print('Accuracy score for SVM_Sigmoid is:',Accuracy_Score_SVM_Sigmoid)"
   ]
  },
  {
   "cell_type": "code",
   "execution_count": 53,
   "metadata": {},
   "outputs": [
    {
     "name": "stdout",
     "output_type": "stream",
     "text": [
      "Confusion matrix for SVM_Sigmoid is \n",
      "\n",
      "                  Predicted Not Safe  Predicted Safe\n",
      "Actual Not Safe                  49              32\n",
      "Actual Safe                       1             118\n"
     ]
    }
   ],
   "source": [
    "matrix_SVM_Sigmoid = pd.DataFrame()\n",
    "matrix_SVM_Sigmoid = pd.DataFrame(confusion_matrix(y_test, pred_svm_sigmoid))\n",
    "matrix_SVM_Sigmoid.index = ['Actual Not Safe','Actual Safe']\n",
    "matrix_SVM_Sigmoid.columns = ['Predicted Not Safe','Predicted Safe']\n",
    "print('Confusion matrix for SVM_Sigmoid is \\n\\n',matrix_SVM_Sigmoid)\n",
    "    "
   ]
  },
  {
   "cell_type": "code",
   "execution_count": 54,
   "metadata": {},
   "outputs": [
    {
     "name": "stdout",
     "output_type": "stream",
     "text": [
      "Classification report for SVM_Sigmoid is:\n",
      "\n",
      "               precision    recall  f1-score   support\n",
      "\n",
      "       False       0.98      0.60      0.75        81\n",
      "        True       0.79      0.99      0.88       119\n",
      "\n",
      "    accuracy                           0.83       200\n",
      "   macro avg       0.88      0.80      0.81       200\n",
      "weighted avg       0.86      0.83      0.82       200\n",
      "\n"
     ]
    }
   ],
   "source": [
    "print('Classification report for SVM_Sigmoid is:\\n\\n',classification_report(y_test, pred_svm_sigmoid))"
   ]
  },
  {
   "cell_type": "markdown",
   "metadata": {},
   "source": [
    "### Decision Tree Classifier"
   ]
  },
  {
   "cell_type": "code",
   "execution_count": 55,
   "metadata": {},
   "outputs": [],
   "source": [
    "from sklearn.tree import DecisionTreeClassifier\n",
    "classifier_dt = DecisionTreeClassifier()\n",
    "classifier_dt.fit(trainCV, y_train)\n",
    "pred_dt = classifier_dt.predict(testCV)"
   ]
  },
  {
   "cell_type": "code",
   "execution_count": 56,
   "metadata": {},
   "outputs": [
    {
     "name": "stdout",
     "output_type": "stream",
     "text": [
      "Accuracy score for Decision_Tree is: 0.7\n"
     ]
    }
   ],
   "source": [
    "Accuracy_Score_dt = accuracy_score(y_test, pred_dt)\n",
    "print('Accuracy score for Decision_Tree is:',Accuracy_Score_dt)"
   ]
  },
  {
   "cell_type": "code",
   "execution_count": 57,
   "metadata": {},
   "outputs": [
    {
     "name": "stdout",
     "output_type": "stream",
     "text": [
      "Confusion matrix for Decision_Tree is \n",
      "\n",
      "                  Predicted Not Safe  Predicted Safe\n",
      "Actual Not Safe                  54              27\n",
      "Actual Safe                      33              86\n"
     ]
    }
   ],
   "source": [
    "matrix_Decision_Tree = pd.DataFrame()\n",
    "matrix_Decision_Tree = pd.DataFrame(confusion_matrix(y_test, pred_dt))\n",
    "matrix_Decision_Tree.index = ['Actual Not Safe','Actual Safe']\n",
    "matrix_Decision_Tree.columns = ['Predicted Not Safe','Predicted Safe']\n",
    "print('Confusion matrix for Decision_Tree is \\n\\n',matrix_Decision_Tree)\n",
    "    "
   ]
  },
  {
   "cell_type": "code",
   "execution_count": 58,
   "metadata": {},
   "outputs": [
    {
     "name": "stdout",
     "output_type": "stream",
     "text": [
      "Classification report for Decision_Tree is:\n",
      "\n",
      "               precision    recall  f1-score   support\n",
      "\n",
      "       False       0.62      0.67      0.64        81\n",
      "        True       0.76      0.72      0.74       119\n",
      "\n",
      "    accuracy                           0.70       200\n",
      "   macro avg       0.69      0.69      0.69       200\n",
      "weighted avg       0.70      0.70      0.70       200\n",
      "\n"
     ]
    }
   ],
   "source": [
    "print('Classification report for Decision_Tree is:\\n\\n',classification_report(y_test, pred_dt))"
   ]
  },
  {
   "cell_type": "markdown",
   "metadata": {},
   "source": [
    "### Random Forest Classifier"
   ]
  },
  {
   "cell_type": "code",
   "execution_count": 59,
   "metadata": {},
   "outputs": [],
   "source": [
    "from sklearn.ensemble import RandomForestClassifier\n",
    "classifier_rf = RandomForestClassifier()\n",
    "classifier_rf.fit(trainCV, y_train)\n",
    "pred_rf = classifier_rf.predict(testCV)"
   ]
  },
  {
   "cell_type": "code",
   "execution_count": 60,
   "metadata": {},
   "outputs": [
    {
     "name": "stdout",
     "output_type": "stream",
     "text": [
      "Accuracy score for Random_Forest is: 0.84\n"
     ]
    }
   ],
   "source": [
    "Accuracy_Score_rf = accuracy_score(y_test, pred_rf)\n",
    "print('Accuracy score for Random_Forest is:',Accuracy_Score_rf)"
   ]
  },
  {
   "cell_type": "code",
   "execution_count": 61,
   "metadata": {},
   "outputs": [
    {
     "name": "stdout",
     "output_type": "stream",
     "text": [
      "Confusion matrix for Random_Forest is \n",
      "\n",
      "                  Predicted Not Safe  Predicted Safe\n",
      "Actual Not Safe                  50              31\n",
      "Actual Safe                       1             118\n"
     ]
    }
   ],
   "source": [
    "matrix_Random_Forest = pd.DataFrame()\n",
    "matrix_Random_Forest = pd.DataFrame(confusion_matrix(y_test, pred_rf))\n",
    "matrix_Random_Forest.index = ['Actual Not Safe','Actual Safe']\n",
    "matrix_Random_Forest.columns = ['Predicted Not Safe','Predicted Safe']\n",
    "print('Confusion matrix for Random_Forest is \\n\\n',matrix_Random_Forest)\n",
    "    "
   ]
  },
  {
   "cell_type": "code",
   "execution_count": 62,
   "metadata": {},
   "outputs": [
    {
     "name": "stdout",
     "output_type": "stream",
     "text": [
      "Classification report for Random_Forest is:\n",
      "\n",
      "               precision    recall  f1-score   support\n",
      "\n",
      "       False       0.98      0.62      0.76        81\n",
      "        True       0.79      0.99      0.88       119\n",
      "\n",
      "    accuracy                           0.84       200\n",
      "   macro avg       0.89      0.80      0.82       200\n",
      "weighted avg       0.87      0.84      0.83       200\n",
      "\n"
     ]
    }
   ],
   "source": [
    "print('Classification report for Random_Forest is:\\n\\n',classification_report(y_test, pred_rf))"
   ]
  },
  {
   "cell_type": "markdown",
   "metadata": {},
   "source": [
    "### Logistic Regression"
   ]
  },
  {
   "cell_type": "code",
   "execution_count": 67,
   "metadata": {},
   "outputs": [],
   "source": [
    "from sklearn.linear_model import LogisticRegression\n",
    "logreg = LogisticRegression()\n",
    "logreg.fit(trainCV,y_train)\n",
    "pred_logreg = logreg.predict(testCV)"
   ]
  },
  {
   "cell_type": "code",
   "execution_count": 68,
   "metadata": {},
   "outputs": [
    {
     "name": "stdout",
     "output_type": "stream",
     "text": [
      "Accuracy score for Logistic_Regression is: 0.78\n"
     ]
    }
   ],
   "source": [
    "Accuracy_Score_logreg = accuracy_score(y_test, pred_logreg)\n",
    "print('Accuracy score for Logistic_Regression is:',Accuracy_Score_logreg)"
   ]
  },
  {
   "cell_type": "code",
   "execution_count": 69,
   "metadata": {},
   "outputs": [
    {
     "name": "stdout",
     "output_type": "stream",
     "text": [
      "Confusion matrix for Logistic_Regression is \n",
      "\n",
      "                  Predicted Not Safe  Predicted Safe\n",
      "Actual Not Safe                  50              31\n",
      "Actual Safe                      13             106\n"
     ]
    }
   ],
   "source": [
    "matrix_Log_Reg = pd.DataFrame()\n",
    "matrix_Log_Reg  = pd.DataFrame(confusion_matrix(y_test, pred_logreg))\n",
    "matrix_Log_Reg .index = ['Actual Not Safe','Actual Safe']\n",
    "matrix_Log_Reg .columns = ['Predicted Not Safe','Predicted Safe']\n",
    "print('Confusion matrix for Logistic_Regression is \\n\\n',matrix_Log_Reg )\n",
    "    "
   ]
  },
  {
   "cell_type": "code",
   "execution_count": 70,
   "metadata": {},
   "outputs": [
    {
     "name": "stdout",
     "output_type": "stream",
     "text": [
      "Classification report for Logistic_Regression is:\n",
      "\n",
      "               precision    recall  f1-score   support\n",
      "\n",
      "       False       0.79      0.62      0.69        81\n",
      "        True       0.77      0.89      0.83       119\n",
      "\n",
      "    accuracy                           0.78       200\n",
      "   macro avg       0.78      0.75      0.76       200\n",
      "weighted avg       0.78      0.78      0.77       200\n",
      "\n"
     ]
    }
   ],
   "source": [
    "print('Classification report for Logistic_Regression is:\\n\\n',classification_report(y_test, pred_logreg))"
   ]
  },
  {
   "cell_type": "markdown",
   "metadata": {},
   "source": [
    "### Comparison between all Machine Learning models"
   ]
  },
  {
   "cell_type": "code",
   "execution_count": 71,
   "metadata": {},
   "outputs": [
    {
     "name": "stdout",
     "output_type": "stream",
     "text": [
      "Naive Bayes = 0.84\n",
      "K-Nearest Neighbors = 0.405\n",
      "Support Vector Machine Linear = 0.76\n",
      "Support Vector Machine Gaussion = 0.84\n",
      "Support Vector Machine Polynomial = 0.79\n",
      "Support Vector Machine Sigmoid = 0.835\n",
      "Decision Tree = 0.7\n",
      "Random Forest = 0.84\n",
      "Logistic Regression = 0.78\n"
     ]
    }
   ],
   "source": [
    "print(\"Naive Bayes =\",Accuracy_Score_NB)\n",
    "print(\"K-Nearest Neighbors =\",Accuracy_Score_knn)\n",
    "print(\"Support Vector Machine Linear =\",Accuracy_Score_SVM_Linear)\n",
    "print(\"Support Vector Machine Gaussion =\",Accuracy_Score_SVM_Gaussion)\n",
    "print(\"Support Vector Machine Polynomial =\",Accuracy_Score_SVM_Polynomial)\n",
    "print(\"Support Vector Machine Sigmoid =\",Accuracy_Score_SVM_Sigmoid)\n",
    "print(\"Decision Tree =\",Accuracy_Score_dt)\n",
    "print(\"Random Forest =\",Accuracy_Score_rf)\n",
    "print(\"Logistic Regression =\",Accuracy_Score_logreg)"
   ]
  },
  {
   "cell_type": "markdown",
   "metadata": {},
   "source": [
    "### Conclusion:\n",
    "\n",
    "- By comparing accuracy_score all the machine learning models we can conclude that the accuracy_score of Naive Bayes, Support Vector Machine Linear and Random Forest is more fallowed by Support Vector Machine Sigmoid.\n",
    "- So we can use these Machine Learning models to identify if the request is safe or not for the app.\n",
    "- These cyber security products will help to protect web and mobile applications from runtime attacks."
   ]
  },
  {
   "cell_type": "code",
   "execution_count": null,
   "metadata": {},
   "outputs": [],
   "source": []
  }
 ],
 "metadata": {
  "kernelspec": {
   "display_name": "Python 3",
   "language": "python",
   "name": "python3"
  },
  "language_info": {
   "codemirror_mode": {
    "name": "ipython",
    "version": 3
   },
   "file_extension": ".py",
   "mimetype": "text/x-python",
   "name": "python",
   "nbconvert_exporter": "python",
   "pygments_lexer": "ipython3",
   "version": "3.8.3"
  }
 },
 "nbformat": 4,
 "nbformat_minor": 4
}
